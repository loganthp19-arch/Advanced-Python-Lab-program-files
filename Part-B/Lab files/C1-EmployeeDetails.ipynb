{
 "cells": [
  {
   "cell_type": "code",
   "execution_count": 3,
   "id": "e798b4bd-0896-4053-9dec-54f037aba6d2",
   "metadata": {},
   "outputs": [
    {
     "name": "stdout",
     "output_type": "stream",
     "text": [
      "1-ADD EMPLOYEE 2-DISPLAY EMPLOYEE LIST 3-SEARCH EMPLOYEE BY ID 4-EXIT\n"
     ]
    },
    {
     "name": "stdin",
     "output_type": "stream",
     "text": [
      "Enter your choice 1\n",
      "Enter Employee Name: dd\n",
      "Enter Employee Place: dd\n",
      "Enter Employee Dept: dd\n"
     ]
    },
    {
     "name": "stdout",
     "output_type": "stream",
     "text": [
      "1-ADD EMPLOYEE 2-DISPLAY EMPLOYEE LIST 3-SEARCH EMPLOYEE BY ID 4-EXIT\n"
     ]
    },
    {
     "name": "stdin",
     "output_type": "stream",
     "text": [
      "Enter your choice 1\n",
      "Enter Employee Name: gg\n",
      "Enter Employee Place: g\n",
      "Enter Employee Dept: g\n"
     ]
    },
    {
     "name": "stdout",
     "output_type": "stream",
     "text": [
      "1-ADD EMPLOYEE 2-DISPLAY EMPLOYEE LIST 3-SEARCH EMPLOYEE BY ID 4-EXIT\n"
     ]
    },
    {
     "name": "stdin",
     "output_type": "stream",
     "text": [
      "Enter your choice 1\n",
      "Enter Employee Name: r\n",
      "Enter Employee Place: r\n",
      "Enter Employee Dept: r\n"
     ]
    },
    {
     "name": "stdout",
     "output_type": "stream",
     "text": [
      "1-ADD EMPLOYEE 2-DISPLAY EMPLOYEE LIST 3-SEARCH EMPLOYEE BY ID 4-EXIT\n"
     ]
    },
    {
     "name": "stdin",
     "output_type": "stream",
     "text": [
      "Enter your choice 2\n"
     ]
    },
    {
     "name": "stdout",
     "output_type": "stream",
     "text": [
      "********************************************\n",
      "1\n",
      "Name: dd\n",
      "Place: dd\n",
      "Dept.: dd\n",
      "^^^^^^^^^^^^^^^^^^^^^^^^^^^^^^^^\n",
      "2\n",
      "Name: gg\n",
      "Place: g\n",
      "Dept.: g\n",
      "^^^^^^^^^^^^^^^^^^^^^^^^^^^^^^^^\n",
      "3\n",
      "Name: r\n",
      "Place: r\n",
      "Dept.: r\n",
      "^^^^^^^^^^^^^^^^^^^^^^^^^^^^^^^^\n",
      "********************************************\n",
      "1-ADD EMPLOYEE 2-DISPLAY EMPLOYEE LIST 3-SEARCH EMPLOYEE BY ID 4-EXIT\n"
     ]
    },
    {
     "name": "stdin",
     "output_type": "stream",
     "text": [
      "Enter your choice 3\n",
      "Enter the employee ID to be searched: 2\n"
     ]
    },
    {
     "name": "stdout",
     "output_type": "stream",
     "text": [
      "2\n",
      "gg\n",
      "g\n",
      "g\n",
      "1-ADD EMPLOYEE 2-DISPLAY EMPLOYEE LIST 3-SEARCH EMPLOYEE BY ID 4-EXIT\n"
     ]
    },
    {
     "name": "stdin",
     "output_type": "stream",
     "text": [
      "Enter your choice 3\n",
      "Enter the employee ID to be searched: 5\n"
     ]
    },
    {
     "name": "stdout",
     "output_type": "stream",
     "text": [
      "5 not a valid EMP ID\n",
      "1-ADD EMPLOYEE 2-DISPLAY EMPLOYEE LIST 3-SEARCH EMPLOYEE BY ID 4-EXIT\n"
     ]
    },
    {
     "name": "stdin",
     "output_type": "stream",
     "text": [
      "Enter your choice 4\n"
     ]
    }
   ],
   "source": [
    "class EmployeeDict:\n",
    "    def __init__(self):\n",
    "        self.empDict=dict()\n",
    "        self.autoId=0\n",
    "        \n",
    "    def addEmployee(self):\n",
    "        emp=Employee()\n",
    "        self.autoId=self.autoId+1\n",
    "        emp.Id   = self.autoId\n",
    "        \n",
    "        emp.name =input(\"Enter Employee Name:\")\n",
    "        emp.place=input(\"Enter Employee Place:\")\n",
    "        emp.dept =input(\"Enter Employee Dept:\")\n",
    "        self.empDict[emp.Id] = emp\n",
    "        \n",
    "    def displayEmployees(self):\n",
    "        print(\"********************************************\")\n",
    "        for empId in self.empDict:\n",
    "            print(empId)\n",
    "            print(\"Name:\",self.empDict[empId].name)\n",
    "            print(\"Place:\",self.empDict[empId].place)\n",
    "            print(\"Dept.:\",self.empDict[empId].dept)\n",
    "            print(\"^^^^^^^^^^^^^^^^^^^^^^^^^^^^^^^^\")\n",
    "        print(\"********************************************\")\n",
    "        \n",
    "    def displayEmployeeById(self):\n",
    "        empId = int(input(\"Enter the employee ID to be searched:\"))\n",
    "        if empId in self.empDict:\n",
    "            print(self.empDict[empId].Id)\n",
    "            print(self.empDict[empId].name)\n",
    "            print(self.empDict[empId].place)\n",
    "            print(self.empDict[empId].dept)\n",
    "        else:\n",
    "            print(empId, \"not a valid EMP ID\")\n",
    "        \n",
    "class Employee:\n",
    "    def __init__(self):\n",
    "        pass\n",
    "\n",
    "emp=EmployeeDict()\n",
    "while True:\n",
    "    print(\"1-ADD EMPLOYEE 2-DISPLAY EMPLOYEE LIST 3-SEARCH EMPLOYEE BY ID 4-EXIT\")\n",
    "    choice = int(input(\"Enter your choice\"))\n",
    "    if choice==1:\n",
    "        emp.addEmployee()\n",
    "    elif choice == 2:\n",
    "        emp.displayEmployees()\n",
    "    elif choice == 3:\n",
    "        emp.displayEmployeeById()\n",
    "    elif choice == 4:\n",
    "        break\n",
    "    else:\n",
    "        print(\"INVALID CHOICE!!!\")\n",
    "         \n",
    "        "
   ]
  },
  {
   "cell_type": "code",
   "execution_count": null,
   "id": "00b7ca8e-d1a7-4dc8-9cc2-960d6928eb0c",
   "metadata": {},
   "outputs": [],
   "source": []
  }
 ],
 "metadata": {
  "kernelspec": {
   "display_name": "Python 3 (ipykernel)",
   "language": "python",
   "name": "python3"
  },
  "language_info": {
   "codemirror_mode": {
    "name": "ipython",
    "version": 3
   },
   "file_extension": ".py",
   "mimetype": "text/x-python",
   "name": "python",
   "nbconvert_exporter": "python",
   "pygments_lexer": "ipython3",
   "version": "3.12.0"
  }
 },
 "nbformat": 4,
 "nbformat_minor": 5
}
