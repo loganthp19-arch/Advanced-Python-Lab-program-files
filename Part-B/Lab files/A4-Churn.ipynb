{
 "cells": [
  {
   "cell_type": "code",
   "execution_count": 16,
   "id": "5fbd624e",
   "metadata": {},
   "outputs": [],
   "source": [
    "import numpy as np\n",
    "import pandas as pd\n",
    "churn_data = pd.read_csv('datasets/churn.csv', index_col=0)"
   ]
  },
  {
   "cell_type": "code",
   "execution_count": 4,
   "id": "bde932aa",
   "metadata": {},
   "outputs": [
    {
     "name": "stdout",
     "output_type": "stream",
     "text": [
      "customerID           object\n",
      "tenure               object\n",
      "Contract             object\n",
      "PaperlessBilling     object\n",
      "PaymentMethod        object\n",
      "MonthlyCharges      float64\n",
      "TotalCharges        float64\n",
      "gender               object\n",
      "SeniorCitizen       float64\n",
      "Partner              object\n",
      "Dependents           object\n",
      "PhoneService         object\n",
      "MultipleLines        object\n",
      "InternetService      object\n",
      "OnlineSecurity       object\n",
      "OnlineBackup         object\n",
      "DeviceProtection     object\n",
      "TechSupport          object\n",
      "StreamingTV          object\n",
      "StreamingMovies      object\n",
      "Churn                object\n",
      "dtype: object\n"
     ]
    }
   ],
   "source": [
    "print(churn_data.dtypes)"
   ]
  },
  {
   "cell_type": "code",
   "execution_count": 5,
   "id": "21979e58",
   "metadata": {},
   "outputs": [
    {
     "name": "stdout",
     "output_type": "stream",
     "text": [
      "7\n"
     ]
    }
   ],
   "source": [
    "#Count total number of duplicate records in the dataframe\n",
    "print(len(churn_data) - len(churn_data.drop_duplicates()))"
   ]
  },
  {
   "cell_type": "code",
   "execution_count": 6,
   "id": "037a39c5",
   "metadata": {},
   "outputs": [
    {
     "name": "stdout",
     "output_type": "stream",
     "text": [
      "7\n"
     ]
    }
   ],
   "source": [
    "#count duplicate records based on attribute (customerID)\n",
    "df = churn_data['customerID'].duplicated()\n",
    "print(sum(df))                         #add all true values"
   ]
  },
  {
   "cell_type": "code",
   "execution_count": 7,
   "id": "bcebb6c5",
   "metadata": {},
   "outputs": [
    {
     "name": "stdout",
     "output_type": "stream",
     "text": [
      "customerID           0\n",
      "tenure               0\n",
      "Contract             0\n",
      "PaperlessBilling     0\n",
      "PaymentMethod        0\n",
      "MonthlyCharges      10\n",
      "TotalCharges        15\n",
      "gender               0\n",
      "SeniorCitizen        5\n",
      "Partner              0\n",
      "Dependents           0\n",
      "PhoneService         0\n",
      "MultipleLines        0\n",
      "InternetService      0\n",
      "OnlineSecurity       0\n",
      "OnlineBackup         0\n",
      "DeviceProtection     0\n",
      "TechSupport          0\n",
      "StreamingTV          0\n",
      "StreamingMovies      0\n",
      "Churn                0\n",
      "dtype: int64\n"
     ]
    }
   ],
   "source": [
    "#missing values in each column\n",
    "print(churn_data.isnull().sum()) "
   ]
  },
  {
   "cell_type": "code",
   "execution_count": 8,
   "id": "91079292",
   "metadata": {},
   "outputs": [
    {
     "name": "stdout",
     "output_type": "stream",
     "text": [
      "15\n"
     ]
    }
   ],
   "source": [
    "#missing values in column Totalcharges \n",
    "print(churn_data['TotalCharges'].isnull().sum())"
   ]
  },
  {
   "cell_type": "code",
   "execution_count": 9,
   "id": "7cab5dc5",
   "metadata": {},
   "outputs": [
    {
     "name": "stdout",
     "output_type": "stream",
     "text": [
      "62.473481781376535\n"
     ]
    }
   ],
   "source": [
    "#Average monthly charge paid by a customer for the services he/she has signed up for\n",
    "print(churn_data['MonthlyCharges'].mean())"
   ]
  },
  {
   "cell_type": "code",
   "execution_count": 13,
   "id": "9cab773c",
   "metadata": {},
   "outputs": [
    {
     "name": "stdout",
     "output_type": "stream",
     "text": [
      "     customerID tenure        Contract PaperlessBilling  \\\n",
      "90   1754-GKYPY     22  Month-to-month              Yes   \n",
      "126  9108-EQPNQ     10        Two year               No   \n",
      "175  2640-PMGFL     27  Month-to-month              Yes   \n",
      "221  8854-CCVSQ     18  Month-to-month              Yes   \n",
      "235  6876-ADESB    One  Month-to-month               No   \n",
      "239  1972-XMUWV     65        Two year              Yes   \n",
      "\n",
      "                 PaymentMethod  MonthlyCharges  TotalCharges  gender  \\\n",
      "90   Bank transfer (automatic)           89.75       1938.90    Male   \n",
      "126    Credit card (automatic)           26.10        225.55  Female   \n",
      "175           Electronic check           79.50       2180.55    Male   \n",
      "221           Electronic check           80.65       1451.90    Male   \n",
      "235           Electronic check           48.95         48.95    Male   \n",
      "239    Credit card (automatic)           59.80       3808.20  Female   \n",
      "\n",
      "     SeniorCitizen Partner  ... PhoneService MultipleLines InternetService  \\\n",
      "90             1.0     Yes  ...          Yes            No     Fiber optic   \n",
      "126            0.0     Yes  ...          Yes           Yes              No   \n",
      "175            0.0      No  ...          Yes           Yes     Fiber optic   \n",
      "221            0.0      No  ...          Yes           Yes     Fiber optic   \n",
      "235            0.0      No  ...          Yes            No             DSL   \n",
      "239            0.0     Yes  ...          Yes            No             DSL   \n",
      "\n",
      "          OnlineSecurity         OnlineBackup     DeviceProtection  \\\n",
      "90                    No                   No                   No   \n",
      "126  No internet service  No internet service  No internet service   \n",
      "175                   No                   No                   No   \n",
      "221                   No                  Yes                   No   \n",
      "235                   No                   No                  Yes   \n",
      "239                   No                   No                   No   \n",
      "\n",
      "             TechSupport          StreamingTV      StreamingMovies Churn  \n",
      "90                    No                  Yes                  Yes    No  \n",
      "126  No internet service  No internet service  No internet service    No  \n",
      "175                  Yes                   No                   No   Yes  \n",
      "221                   No                   No                   No   Yes  \n",
      "235                   No                   No                   No   Yes  \n",
      "239                  Yes                  Yes                   No    No  \n",
      "\n",
      "[6 rows x 21 columns]\n"
     ]
    }
   ],
   "source": [
    "#Display Records having “1@#” under the variable Dependents\n",
    "print(churn_data.loc[churn_data['Dependents']=='1@#'])\n",
    "#print(churn_data.loc[churn_data['Dependents']=='1@#'].count())"
   ]
  },
  {
   "cell_type": "code",
   "execution_count": 17,
   "id": "4219e1fd",
   "metadata": {},
   "outputs": [
    {
     "name": "stdout",
     "output_type": "stream",
     "text": [
      "customerID          False\n",
      "tenure              False\n",
      "Contract            False\n",
      "PaperlessBilling    False\n",
      "PaymentMethod       False\n",
      "MonthlyCharges       True\n",
      "TotalCharges         True\n",
      "gender              False\n",
      "SeniorCitizen        True\n",
      "Partner             False\n",
      "Dependents          False\n",
      "PhoneService        False\n",
      "MultipleLines       False\n",
      "InternetService     False\n",
      "OnlineSecurity      False\n",
      "OnlineBackup        False\n",
      "DeviceProtection    False\n",
      "TechSupport         False\n",
      "StreamingTV         False\n",
      "StreamingMovies     False\n",
      "Churn               False\n",
      "dtype: bool\n",
      "......................................................\n",
      "customerID          False\n",
      "tenure              False\n",
      "Contract            False\n",
      "PaperlessBilling    False\n",
      "PaymentMethod       False\n",
      "MonthlyCharges      False\n",
      "TotalCharges        False\n",
      "gender              False\n",
      "SeniorCitizen       False\n",
      "Partner             False\n",
      "Dependents          False\n",
      "PhoneService        False\n",
      "MultipleLines       False\n",
      "InternetService     False\n",
      "OnlineSecurity      False\n",
      "OnlineBackup        False\n",
      "DeviceProtection    False\n",
      "TechSupport         False\n",
      "StreamingTV         False\n",
      "StreamingMovies     False\n",
      "Churn               False\n",
      "dtype: bool\n"
     ]
    }
   ],
   "source": [
    "#Replace null values by median value or by max count class category\n",
    "print(churn_data.isnull().any())\n",
    "\n",
    "churn_data = churn_data.apply(lambda x:x.fillna(x.median()) if x.dtype=='float' else x.fillna(x.value_counts().index[0]))\n",
    "\n",
    "#other way of replacing null values\n",
    "#churn_data['MonthlyCharges'].fillna(churn_data['MonthlyCharges'].median(), inplace = True)\n",
    "#churn_data['TotalCharges'].fillna(churn_data['TotalCharges'].median(), inplace = True)\n",
    "#churn_data['SeniorCitizen'].fillna(churn_data['SeniorCitizen'].median(), inplace = True)\n",
    "print(\"......................................................\")\n",
    "print(churn_data.isnull().any())\n",
    "\n",
    "print()"
   ]
  },
  {
   "cell_type": "code",
   "execution_count": null,
   "id": "4a8f0560",
   "metadata": {},
   "outputs": [],
   "source": []
  }
 ],
 "metadata": {
  "kernelspec": {
   "display_name": "Python 3 (ipykernel)",
   "language": "python",
   "name": "python3"
  },
  "language_info": {
   "codemirror_mode": {
    "name": "ipython",
    "version": 3
   },
   "file_extension": ".py",
   "mimetype": "text/x-python",
   "name": "python",
   "nbconvert_exporter": "python",
   "pygments_lexer": "ipython3",
   "version": "3.12.0"
  }
 },
 "nbformat": 4,
 "nbformat_minor": 5
}
