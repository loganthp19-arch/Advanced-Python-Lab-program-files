{
 "cells": [
  {
   "cell_type": "code",
   "execution_count": 2,
   "id": "eb612ab0",
   "metadata": {},
   "outputs": [
    {
     "name": "stdin",
     "output_type": "stream",
     "text": [
      "Enter the length of a side :  10\n",
      "Enter the length of a side :  2\n",
      "Enter the length of a side :  9\n"
     ]
    },
    {
     "name": "stdout",
     "output_type": "stream",
     "text": [
      "length of Side 1 is 10.0\n",
      "length of Side 2 is 2.0\n",
      "length of Side 3 is 9.0\n",
      "The area of triangle is 8.18\n"
     ]
    }
   ],
   "source": [
    "class Polygon:\n",
    "    def __init__(self, no_of_sides):\n",
    "        self.n = no_of_sides\n",
    "        #self.sides = [0 for i in range(no_of_sides)]\n",
    "        self.sides = []\n",
    "\n",
    "    def inputSides(self):\n",
    "        #self.sides = [float(input(\"Enter the length of side\"+str(i+1)+\" : \" )) for i in range(self.n)]\n",
    "        for i in range(self.n):\n",
    "            side = float(input(\"Enter the length of a side : \" ))\n",
    "            self.sides.append(side)\n",
    "        \n",
    "    def dispSides(self):\n",
    "        for i in range(self.n):\n",
    "            print(\"length of Side\",i+1,\"is\",self.sides[i])\n",
    "    \n",
    "    def findArea(self):\n",
    "        pass\n",
    "    \n",
    "    def calculateperimeter(self):\n",
    "        s = sum(self.sides)/2\n",
    "        return s\n",
    "        \n",
    "\n",
    "\n",
    "class Triangle(Polygon):\n",
    "    def __init__(self):\n",
    "        super().__init__(3)\n",
    "        \n",
    "    def findArea(self):\n",
    "        #calculate semi perimeter\n",
    "        s = self.calculateperimeter()\n",
    "        # area = square root of s*(s-a)*(s-b)*(s-c)*..........   where a, b,c,d,... are sides\n",
    "        \n",
    "        a,b,c = self.sides\n",
    "        if a>(b+c) or b>(a+c) or c>(a+b):\n",
    "            print(\"Invalid Sides\")\n",
    "        else:\n",
    "            area = (s*(s-a)*(s-b)*(s-c))**0.5\n",
    "            print('The area of triangle is %0.2f' %area)\n",
    "\n",
    "\n",
    "t = Triangle()\n",
    "t.inputSides()\n",
    "t.dispSides()\n",
    "t.findArea()"
   ]
  },
  {
   "cell_type": "code",
   "execution_count": null,
   "id": "f6de2767-ca6a-4e87-9607-308183555388",
   "metadata": {},
   "outputs": [],
   "source": []
  }
 ],
 "metadata": {
  "kernelspec": {
   "display_name": "Python 3 (ipykernel)",
   "language": "python",
   "name": "python3"
  },
  "language_info": {
   "codemirror_mode": {
    "name": "ipython",
    "version": 3
   },
   "file_extension": ".py",
   "mimetype": "text/x-python",
   "name": "python",
   "nbconvert_exporter": "python",
   "pygments_lexer": "ipython3",
   "version": "3.12.0"
  }
 },
 "nbformat": 4,
 "nbformat_minor": 5
}
