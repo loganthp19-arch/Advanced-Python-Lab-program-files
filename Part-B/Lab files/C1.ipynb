{
 "cells": [
  {
   "cell_type": "code",
   "execution_count": 1,
   "id": "f23a71ca-199e-4356-8bf4-3d7b09ffa2fa",
   "metadata": {},
   "outputs": [
    {
     "name": "stdin",
     "output_type": "stream",
     "text": [
      "Enter total number of Employees:  2\n",
      "Enter name:  ALICE\n",
      "Enter place:  MYS\n",
      "Enter dept:  IT\n",
      "Enter name:  SMITH\n",
      "Enter place:  BENG\n",
      "Enter dept:  SALES\n"
     ]
    },
    {
     "name": "stdout",
     "output_type": "stream",
     "text": [
      "\n",
      "Employee Details:\n",
      "\n",
      "Employee ID: Emp1\n",
      "Employee Name: ALICE\n",
      "Employee Place: MYS\n",
      "Employee Dept: IT\n",
      "------------------------------\n",
      "Employee ID: Emp2\n",
      "Employee Name: SMITH\n",
      "Employee Place: BENG\n",
      "Employee Dept: SALES\n",
      "------------------------------\n"
     ]
    }
   ],
   "source": [
    "class Employee:\n",
    "    count = 0\n",
    "\n",
    "    def __init__(self):\n",
    "        Employee.count += 1\n",
    "        self.eid = f'Emp{Employee.count}'\n",
    "        self.name = input(\"Enter name: \")\n",
    "        self.place = input(\"Enter place: \")\n",
    "        self.department = input(\"Enter dept: \")\n",
    "\n",
    "    def display(self):\n",
    "        print(f\"Employee ID: {self.eid}\")\n",
    "        print(f\"Employee Name: {self.name}\")\n",
    "        print(f\"Employee Place: {self.place}\")\n",
    "        print(f\"Employee Dept: {self.department}\")\n",
    "        print(\"-\" * 30)\n",
    "\n",
    "employees = [Employee() for _ in range(int(input(\"Enter total number of Employees: \")))]\n",
    "print(\"\\nEmployee Details:\\n\")\n",
    "for emp in employees:\n",
    "    emp.display()"
   ]
  },
  {
   "cell_type": "code",
   "execution_count": null,
   "id": "4532f480-53e8-4e44-ba39-bf8471ce92d7",
   "metadata": {},
   "outputs": [],
   "source": []
  }
 ],
 "metadata": {
  "kernelspec": {
   "display_name": "Python 3 (ipykernel)",
   "language": "python",
   "name": "python3"
  },
  "language_info": {
   "codemirror_mode": {
    "name": "ipython",
    "version": 3
   },
   "file_extension": ".py",
   "mimetype": "text/x-python",
   "name": "python",
   "nbconvert_exporter": "python",
   "pygments_lexer": "ipython3",
   "version": "3.12.7"
  }
 },
 "nbformat": 4,
 "nbformat_minor": 5
}
