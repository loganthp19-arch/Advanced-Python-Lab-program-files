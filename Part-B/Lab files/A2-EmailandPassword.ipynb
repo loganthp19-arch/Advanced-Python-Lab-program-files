{
 "cells": [
  {
   "cell_type": "markdown",
   "id": "286ffee3-768e-477f-9aca-fda2f2eaadfd",
   "metadata": {},
   "source": [
    "# VERSION - 1"
   ]
  },
  {
   "cell_type": "code",
   "execution_count": 6,
   "id": "09507973-f0c9-4470-a623-d5b3c7eb7895",
   "metadata": {},
   "outputs": [
    {
     "name": "stdout",
     "output_type": "stream",
     "text": [
      "Yes, there is at least one match!\n",
      "['paramesha.k@gmail.com', 'paramesha.k@yahoo.co']\n"
     ]
    }
   ],
   "source": [
    "import re\n",
    "\n",
    "txt = r\"my email id is paramesha.k@gmail.com and i have another paramesha.k@yahoo.co.in\"\n",
    "\n",
    "#Check if \"ain\" is present at the beginning of a WORD:\n",
    "\n",
    "x = re.findall(r\"[0-9a-zA-Z_.]+@[0-9a-zA-Z]+[.][A-Za-z]{2,4}\", txt)\n",
    "\n",
    "\n",
    "if x:\n",
    "  print(\"Yes, there is at least one match!\")\n",
    "  print(x)\n",
    "else:\n",
    "  print(\"No match\")"
   ]
  },
  {
   "cell_type": "code",
   "execution_count": 3,
   "id": "dae15515-cf35-4fa9-8c61-7851925848cc",
   "metadata": {},
   "outputs": [
    {
     "name": "stdin",
     "output_type": "stream",
     "text": [
      "Enter your password: Vvce@1997\n"
     ]
    },
    {
     "name": "stdout",
     "output_type": "stream",
     "text": [
      "('7', '7', 'V', 'e', '@')\n",
      "Valid Password\n"
     ]
    }
   ],
   "source": [
    "import re\n",
    "\n",
    "pwd = input(\"Enter your password:\")\n",
    "s=re.search(r\"^(([0-9])|([A-Z])|([a-z])|([@#$&])){6,12}$\", pwd)\n",
    "\n",
    "if not s:\n",
    "     print(\"Invalid Password\")\n",
    "else:\n",
    "    print(s.groups())\n",
    "    if None in s.groups():\n",
    "        print('Invalid Password')        \n",
    "    else:\n",
    "        print(\"Valid Password\")  "
   ]
  },
  {
   "cell_type": "markdown",
   "id": "69eb7f94-f518-402d-b38a-d64b0a37c577",
   "metadata": {},
   "source": [
    "# VERSION- 2"
   ]
  },
  {
   "cell_type": "code",
   "execution_count": 2,
   "id": "271a75aa-2cb3-413b-bae8-47eb025cb9cf",
   "metadata": {},
   "outputs": [
    {
     "name": "stdout",
     "output_type": "stream",
     "text": [
      "xyz@gmil.com\n",
      "999@99ad.com\n",
      "abc_987@vvce.ac.in\n"
     ]
    }
   ],
   "source": [
    "import re \n",
    "emailRegex = re.compile('''\n",
    "                                [a-zA-Z0-9._]+    # username\n",
    "                                @                    # @ symbol\n",
    "                                [a-zA-Z0-9.-]+       # domain name\n",
    "                                [.]                #dot \n",
    "                                [a-zA-Z]{2,4}    #type\n",
    "                             ''',re.VERBOSE)\n",
    "\n",
    "text = \"xyz@gmil.com and 999@99ad.com and abc_987@vvce.ac.in are the mail ids. (897)-012-3456  ext.23 and 897.012-3456x23 are numbers\"\n",
    "L = emailRegex.findall(text)\n",
    "for email in L:\n",
    "    print(email)"
   ]
  },
  {
   "cell_type": "code",
   "execution_count": 1,
   "id": "55c1e336-77ff-41bf-9f67-c794b460a27c",
   "metadata": {},
   "outputs": [
    {
     "name": "stdin",
     "output_type": "stream",
     "text": [
      "Enter a password :  Vvce@1997\n"
     ]
    },
    {
     "name": "stdout",
     "output_type": "stream",
     "text": [
      "Valid Password\n"
     ]
    }
   ],
   "source": [
    "import re\n",
    "pwd = input(\"Enter a password : \")\n",
    "if not len(pwd)>5 :\n",
    "    print(\"Invalid Password\")\n",
    "elif not len(pwd)<17:\n",
    "    print(\"Invalid Password\")\n",
    "elif not re.search('[a-z]', pwd):\n",
    "    print(\"Invalid Password\")\n",
    "elif not re.search('[A-Z]', pwd):\n",
    "    print(\"Invalid Password\")\n",
    "elif not re.search('[0-9]', pwd):\n",
    "    print(\"Invalid Password\")\n",
    "elif not re.search('[#@$_]', pwd):\n",
    "    print(\"Invalid Password\")\n",
    "else:\n",
    "    print(\"Valid Password\")"
   ]
  },
  {
   "cell_type": "code",
   "execution_count": null,
   "id": "afed1c56-13d9-4cd2-9b4e-3a92314d7426",
   "metadata": {},
   "outputs": [],
   "source": []
  }
 ],
 "metadata": {
  "kernelspec": {
   "display_name": "Python 3 (ipykernel)",
   "language": "python",
   "name": "python3"
  },
  "language_info": {
   "codemirror_mode": {
    "name": "ipython",
    "version": 3
   },
   "file_extension": ".py",
   "mimetype": "text/x-python",
   "name": "python",
   "nbconvert_exporter": "python",
   "pygments_lexer": "ipython3",
   "version": "3.12.0"
  }
 },
 "nbformat": 4,
 "nbformat_minor": 5
}
