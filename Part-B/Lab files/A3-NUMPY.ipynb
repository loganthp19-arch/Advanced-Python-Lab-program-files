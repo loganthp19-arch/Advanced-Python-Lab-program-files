{
 "cells": [
  {
   "cell_type": "code",
   "execution_count": 3,
   "id": "0692ffa3",
   "metadata": {},
   "outputs": [
    {
     "data": {
      "text/plain": [
       "'\\nWrite a NumPy program to create a structured array from given \\nstudent name, height, class and their data types. \\nFinally sort the array on height\\n'"
      ]
     },
     "execution_count": 3,
     "metadata": {},
     "output_type": "execute_result"
    }
   ],
   "source": [
    "'''\n",
    "Write a NumPy program to create a structured array from given \n",
    "student name, height, class and their data types. \n",
    "Finally sort the array on height\n",
    "'''"
   ]
  },
  {
   "cell_type": "code",
   "execution_count": 5,
   "id": "d6525d62",
   "metadata": {},
   "outputs": [
    {
     "name": "stdout",
     "output_type": "stream",
     "text": [
      "Original array:\n",
      "[(b'amith', 5, 48.5) (b'dhanush', 6, 53. ) (b'hemanth', 5, 42.5)\n",
      " (b'hitesh', 5, 40. )]\n",
      "Sort by height\n",
      "[(b'hitesh', 5, 40. ) (b'hemanth', 5, 42.5) (b'amith', 5, 48.5)\n",
      " (b'dhanush', 6, 53. )]\n"
     ]
    }
   ],
   "source": [
    "# Importing the NumPy library\n",
    "import numpy as np\n",
    "\n",
    "# Defining the data types for the structured array\n",
    "data_type = [('name', 'S15'), ('class', int), ('height', float)]\n",
    "\n",
    "# Creating a structured array 'students' using the defined data type and provided details\n",
    "\n",
    "students = np.zeros(4, dtype= data_type)\n",
    "\n",
    "students['name'] = ['amith', 'dhanush', 'hemanth', 'hitesh']\n",
    "students['class'] = [5,6,5,5]\n",
    "students['height'] = [48.5, 53, 42.5, 40]\n",
    "\n",
    "# Displaying the original structured array\n",
    "print(\"Original array:\")\n",
    "print(students)\n",
    "\n",
    "# Sorting the structured array by 'height' field\n",
    "print(\"Sort by height\")\n",
    "print(np.sort(students, order='height')) "
   ]
  },
  {
   "cell_type": "code",
   "execution_count": 7,
   "id": "7c8d6725",
   "metadata": {},
   "outputs": [
    {
     "name": "stdout",
     "output_type": "stream",
     "text": [
      "enter the number of students:3\n",
      "enter the name:amith\n",
      "enter the class:4\n",
      "enter the height:78\n",
      "enter the name:hemanth\n",
      "enter the class:4\n",
      "enter the height:56\n",
      "enter the name:dhanush\n",
      "enter the class:5\n",
      "enter the height:66\n",
      "Original array:\n",
      "[(b'amith', 4, 78.) (b'hemanth', 4, 56.) (b'dhanush', 5, 66.)]\n",
      "Sort by height\n",
      "[(b'hemanth', 4, 56.) (b'dhanush', 5, 66.) (b'amith', 4, 78.)]\n"
     ]
    }
   ],
   "source": [
    "# Importing the NumPy library\n",
    "import numpy as np\n",
    "\n",
    "# Defining the data types for the structured array\n",
    "data_type = [('name', 'S15'), ('class', int), ('height', float)]\n",
    "\n",
    "# Creating a structured array 'students' using the defined data type and provided details\n",
    "n=int(input('enter the number of students:'))\n",
    "names = []\n",
    "classes=[]\n",
    "heights=[]\n",
    "for i in range(n):\n",
    "    x=input('enter the name:')\n",
    "    y=int(input('enter the class:'))\n",
    "    z=float(input('enter the height:'))\n",
    "    names.append(x)\n",
    "    classes.append(y)\n",
    "    heights.append(z)\n",
    "students = np.zeros(n, dtype= data_type)\n",
    "\n",
    "students['name'] = names\n",
    "students['class'] = classes\n",
    "students['height'] = heights\n",
    "\n",
    "# Displaying the original structured array\n",
    "print(\"Original array:\")\n",
    "print(students)\n",
    "\n",
    "# Sorting the structured array by 'height' field\n",
    "print(\"Sort by height\")\n",
    "print(np.sort(students, order='height')) "
   ]
  },
  {
   "cell_type": "code",
   "execution_count": 1,
   "id": "5dd087e3",
   "metadata": {},
   "outputs": [
    {
     "name": "stdout",
     "output_type": "stream",
     "text": [
      "Original array:\n",
      "[(b'James', 5, 48.5 ) (b'Nail', 6, 52.5 ) (b'Paul', 5, 42.1 )\n",
      " (b'Pit', 5, 40.11)]\n",
      "Sort by height\n",
      "[(b'Pit', 5, 40.11) (b'Paul', 5, 42.1 ) (b'James', 5, 48.5 )\n",
      " (b'Nail', 6, 52.5 )]\n"
     ]
    }
   ],
   "source": [
    "# Importing the NumPy library\n",
    "import numpy as np\n",
    "\n",
    "# Defining the data types for the structured array\n",
    "data_type = [('name', 'S15'), ('class', int), ('height', float)]\n",
    "\n",
    "# Defining the details of students as a list of tuples\n",
    "students_details = [('James', 5, 48.5), ('Nail', 6, 52.5), ('Paul', 5, 42.10), ('Pit', 5, 40.11)]\n",
    "\n",
    "# Creating a structured array 'students' using the defined data type and provided details\n",
    "students = np.array(students_details, dtype=data_type)\n",
    "\n",
    "# Displaying the original structured array\n",
    "print(\"Original array:\")\n",
    "print(students)\n",
    "\n",
    "# Sorting the structured array by 'height' field\n",
    "print(\"Sort by height\")\n",
    "print(np.sort(students, order='height')) "
   ]
  },
  {
   "cell_type": "code",
   "execution_count": null,
   "id": "37895fbd",
   "metadata": {},
   "outputs": [],
   "source": []
  }
 ],
 "metadata": {
  "kernelspec": {
   "display_name": "Python 3 (ipykernel)",
   "language": "python",
   "name": "python3"
  },
  "language_info": {
   "codemirror_mode": {
    "name": "ipython",
    "version": 3
   },
   "file_extension": ".py",
   "mimetype": "text/x-python",
   "name": "python",
   "nbconvert_exporter": "python",
   "pygments_lexer": "ipython3",
   "version": "3.9.12"
  }
 },
 "nbformat": 4,
 "nbformat_minor": 5
}
