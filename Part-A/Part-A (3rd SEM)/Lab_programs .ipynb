{
 "cells": [
  {
   "cell_type": "code",
   "execution_count": 3,
   "id": "04738802",
   "metadata": {},
   "outputs": [
    {
     "name": "stdout",
     "output_type": "stream",
     "text": [
      "Enter a number15\n",
      "15 is not a prime number.\n"
     ]
    }
   ],
   "source": [
    "# Prime Number\n",
    "# program 01\n",
    "def is_prime(num):\n",
    "    if num<=1:\n",
    "        return False\n",
    "    for i in range(2, int(num**(0.5))+1):\n",
    "        if (num%i==0):\n",
    "            return False\n",
    "    return True\n",
    "user_input=int(input(\"Enter a number\"))\n",
    "if is_prime(user_input):\n",
    "    print(f\"{user_input} is a prime number.\")\n",
    "else:\n",
    "    print(f\"{user_input} is not a prime number.\")\n"
   ]
  },
  {
   "cell_type": "code",
   "execution_count": 5,
   "id": "ebaeb66b",
   "metadata": {},
   "outputs": [
    {
     "name": "stdout",
     "output_type": "stream",
     "text": [
      "Enter a sentencema ma ama ma\n",
      "Number of words in the sentence: 4\n"
     ]
    }
   ],
   "source": [
    "# counting total number of words\n",
    "# program 03\n",
    "\n",
    "def count_words(sentence):\n",
    "    words=sentence.split()\n",
    "    num_words=len(words)\n",
    "    return num_words\n",
    " \n",
    "usr_sentence=input(\"Enter a sentence: \")\n",
    "result= count_words(usr_sentence)\n",
    "print(f\"Number of words in the sentence: {result}\")\n"
   ]
  },
  {
   "cell_type": "code",
   "execution_count": 16,
   "id": "c840f1c6",
   "metadata": {},
   "outputs": [
    {
     "name": "stdout",
     "output_type": "stream",
     "text": [
      "Enter the string: dsiaf\n",
      "Length of String : 5\n",
      "String is not a palindrome\n"
     ]
    }
   ],
   "source": [
    "# program 02\n",
    "# checking for palindrome\n",
    "\n",
    "def calc_length(string):\n",
    "    length=0\n",
    "    for i in string:\n",
    "        length+=1\n",
    "    return length\n",
    "\n",
    "def is_palindrome(string):\n",
    "    length=calc_length(string)\n",
    "    for i in range(length//2):\n",
    "        if (string[i]!=string[length-i-1]):\n",
    "            return False\n",
    "    return True\n",
    "\n",
    "usr_input=input(\"Enter the string: \")\n",
    "length=calc_length(usr_input)\n",
    "print(f\"Length of String : {length}\")\n",
    "\n",
    "if is_palindrome(usr_input):\n",
    "    print(\"string is palindrome\")\n",
    "else:\n",
    "    print(\"String is not a palindrome\")"
   ]
  },
  {
   "cell_type": "code",
   "execution_count": 18,
   "id": "7ad07f83",
   "metadata": {},
   "outputs": [
    {
     "name": "stdout",
     "output_type": "stream",
     "text": [
      "Sum of Numbers: 15\n"
     ]
    }
   ],
   "source": [
    "# Lab_program 4\n",
    "def sum_numbers(nums):\n",
    "    total=0\n",
    "    for num in nums:\n",
    "        total+=num\n",
    "    return total\n",
    "\n",
    "lst = [1,2,3,4,5]\n",
    "result=sum_numbers(lst)\n",
    "print(f\"Sum of Numbers: {result}\")"
   ]
  },
  {
   "cell_type": "code",
   "execution_count": 19,
   "id": "862bc227",
   "metadata": {
    "scrolled": false
   },
   "outputs": [
    {
     "name": "stdout",
     "output_type": "stream",
     "text": [
      "enter a number454354\n",
      "454354 is even\n"
     ]
    }
   ],
   "source": [
    "# Lab Program 7\n",
    "\n",
    "def check_even_odd(num):\n",
    "    if(num%2==0):\n",
    "        print(f\"{num} is even\")\n",
    "    else:\n",
    "        print(f\"{num} is odd\")\n",
    "check_even_odd(int(input(\"enter a number \")))"
   ]
  },
  {
   "cell_type": "code",
   "execution_count": 22,
   "id": "ec914408",
   "metadata": {
    "scrolled": true
   },
   "outputs": [
    {
     "name": "stdout",
     "output_type": "stream",
     "text": [
      "enter a stringmadam\n",
      "Character counts:\n",
      "'m':2\n",
      "'a':2\n",
      "'d':1\n"
     ]
    }
   ],
   "source": [
    "# Lab program 8\n",
    "\n",
    "def count_char(input_string):\n",
    "    char_count={}\n",
    "    for char in input_string:\n",
    "        if char in char_count:\n",
    "            char_count[char]+=1\n",
    "        else:\n",
    "            char_count[char]=1\n",
    "    return char_count\n",
    "\n",
    "\n",
    "usr_input=input(\"enter a string\")\n",
    "result=count_char(usr_input)\n",
    "print(\"Character counts:\")\n",
    "for i,j in result.items():\n",
    "    print(f\"'{i}':{j}\")\n",
    "\n",
    " "
   ]
  },
  {
   "cell_type": "code",
   "execution_count": null,
   "id": "a282cb3d",
   "metadata": {},
   "outputs": [],
   "source": [
    "#Lab program 6\n",
    "def copy_odd_lines(input_file, output_file):\n",
    "    with open(input_file, 'r') as infile, open(output_file, 'w') as outfile:\n",
    "        for line_number, line in enumerate(infile, 1):\n",
    "            if line_number % 2 != 0:\n",
    "                outfile.write(line)\n",
    "\n",
    "\n",
    "input_file = 'C:/Users/student/129/input.txt'\n",
    "output_file = 'C:/Users/student/129/output.txt'\n",
    "\n",
    "\n",
    "copy_odd_lines(input_file, output_file)\n",
    "\n"
   ]
  },
  {
   "cell_type": "code",
   "execution_count": null,
   "id": "fab8ab83",
   "metadata": {},
   "outputs": [
    {
     "name": "stdout",
     "output_type": "stream",
     "text": [
      "enter no of entries1\n",
      "enter name1\n",
      "enter the phone no1\n",
      "Enter a name to search1\n",
      "1's phone number is 1\n"
     ]
    }
   ],
   "source": [
    "#Lab program 5\n",
    "phonebook={}\n",
    "n=int(input(\"enter no of entries\"))\n",
    "for i in range(n):\n",
    "    name=input(\"enter name\")\n",
    "    phone=input(\"enter the phone no\")\n",
    "    phonebook[name]=phone\n",
    "search_name=input(\"Enter a name to search\")\n",
    "if search_name in phonebook:\n",
    "    print(f\"{search_name}'s phone number is {phonebook[search_name]}\")\n",
    "else:\n",
    "          print(f\"{search_name}'s phone number is not found\")"
   ]
  },
  {
   "cell_type": "code",
   "execution_count": null,
   "id": "26b9275c",
   "metadata": {},
   "outputs": [],
   "source": []
  },
  {
   "cell_type": "code",
   "execution_count": null,
   "id": "0fbd51a3",
   "metadata": {},
   "outputs": [],
   "source": []
  },
  {
   "cell_type": "code",
   "execution_count": null,
   "id": "39f738fd",
   "metadata": {},
   "outputs": [],
   "source": []
  },
  {
   "cell_type": "code",
   "execution_count": null,
   "id": "64a3c783",
   "metadata": {},
   "outputs": [],
   "source": []
  }
 ],
 "metadata": {
  "kernelspec": {
   "display_name": "Python 3 (ipykernel)",
   "language": "python",
   "name": "python3"
  },
  "language_info": {
   "codemirror_mode": {
    "name": "ipython",
    "version": 3
   },
   "file_extension": ".py",
   "mimetype": "text/x-python",
   "name": "python",
   "nbconvert_exporter": "python",
   "pygments_lexer": "ipython3",
   "version": "3.10.9"
  }
 },
 "nbformat": 4,
 "nbformat_minor": 5
}
