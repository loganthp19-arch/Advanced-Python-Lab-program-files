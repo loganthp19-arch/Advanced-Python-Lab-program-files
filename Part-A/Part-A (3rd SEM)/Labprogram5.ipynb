{
 "cells": [
  {
   "cell_type": "code",
   "execution_count": null,
   "id": "76d3cada",
   "metadata": {},
   "outputs": [],
   "source": [
    "Write a Python program to store phone numbers of persons in a dictionary \n",
    "and display the phone number of the requested person."
   ]
  },
  {
   "cell_type": "code",
   "execution_count": null,
   "id": "5e4134bc",
   "metadata": {},
   "outputs": [],
   "source": [
    "1 : read num of persons 'n'\n",
    "2 : read name and ph of 'n' persons\n",
    "    and store them in a dictionary\n",
    "3 : User to enter name of a person\n",
    "4: Display that person's ph num"
   ]
  },
  {
   "cell_type": "code",
   "execution_count": 18,
   "id": "688dc03d",
   "metadata": {},
   "outputs": [
    {
     "name": "stdout",
     "output_type": "stream",
     "text": [
      "Enter the number of persons : 2\n",
      "Enter a name : bhanavi\n",
      "Enter the ph num : 1111222223\n",
      "Enter a name : chaithanya\n",
      "Enter the ph num : 232333434555\n",
      "{'bhanavi': '1111222223', 'chaithanya': '232333434555'}\n",
      "Enter a person name to search the phone number : aiman\n",
      "phone number doesnot exist\n"
     ]
    }
   ],
   "source": [
    "D = {}\n",
    "n = int (input(\"Enter the number of persons : \"))\n",
    "for i in range(n):\n",
    "    name = input(\"Enter a name : \")\n",
    "    ph = input(\"Enter the ph num : \")\n",
    "    D[name] = ph\n",
    "\n",
    "print(D)\n",
    "\n",
    "search_name = input(\"Enter a person name to search the phone number : \")\n",
    "if search_name in D:\n",
    "    print(D[search_name])\n",
    "else:\n",
    "    print(\"phone number doesnot exist\")"
   ]
  },
  {
   "cell_type": "code",
   "execution_count": 19,
   "id": "c754d97c",
   "metadata": {},
   "outputs": [
    {
     "name": "stdout",
     "output_type": "stream",
     "text": [
      "Enter the number of persons : 2\n",
      "Enter a name : bhanavi\n",
      "Enter the ph num : 1111223333\n",
      "Enter a name : chaithanya\n",
      "Enter the ph num : 3345666788\n",
      "{'bhanavi': '1111223333', 'chaithanya': '3345666788'}\n",
      "Enter a person name to search the phone number : aiman\n",
      "doesnot exist\n"
     ]
    }
   ],
   "source": [
    "D = {}\n",
    "n = int (input(\"Enter the number of persons : \"))\n",
    "for i in range(n):\n",
    "    name = input(\"Enter a name : \")\n",
    "    ph = input(\"Enter the ph num : \")\n",
    "    D[name] = ph\n",
    "\n",
    "print(D)\n",
    "\n",
    "search_name = input(\"Enter a person name to search the phone number : \")\n",
    "print ( D.get(search_name, 'doesnot exist') )"
   ]
  }
 ],
 "metadata": {
  "kernelspec": {
   "display_name": "Python 3 (ipykernel)",
   "language": "python",
   "name": "python3"
  },
  "language_info": {
   "codemirror_mode": {
    "name": "ipython",
    "version": 3
   },
   "file_extension": ".py",
   "mimetype": "text/x-python",
   "name": "python",
   "nbconvert_exporter": "python",
   "pygments_lexer": "ipython3",
   "version": "3.9.12"
  }
 },
 "nbformat": 4,
 "nbformat_minor": 5
}
