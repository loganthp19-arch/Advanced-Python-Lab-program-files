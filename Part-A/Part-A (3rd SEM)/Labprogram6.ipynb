{
 "cells": [
  {
   "cell_type": "code",
   "execution_count": null,
   "id": "006d8f68",
   "metadata": {},
   "outputs": [],
   "source": [
    "6.Develop a python program to copy the contents \n",
    "of only odd lines from one file to another file."
   ]
  },
  {
   "cell_type": "code",
   "execution_count": 4,
   "id": "b5959d12",
   "metadata": {},
   "outputs": [],
   "source": [
    "ipfile = open(\"input.txt\",'r')\n",
    "lines = ipfile.readlines()\n",
    "ipfile.close()\n",
    "\n",
    "oddlines = lines[::2]\n",
    "\n",
    "opfile = open(\"output.txt\", 'w')\n",
    "for l in oddlines:\n",
    "    opfile.write(l)\n",
    "\n",
    "opfile.close()"
   ]
  }
 ],
 "metadata": {
  "kernelspec": {
   "display_name": "Python 3 (ipykernel)",
   "language": "python",
   "name": "python3"
  },
  "language_info": {
   "codemirror_mode": {
    "name": "ipython",
    "version": 3
   },
   "file_extension": ".py",
   "mimetype": "text/x-python",
   "name": "python",
   "nbconvert_exporter": "python",
   "pygments_lexer": "ipython3",
   "version": "3.9.12"
  }
 },
 "nbformat": 4,
 "nbformat_minor": 5
}
