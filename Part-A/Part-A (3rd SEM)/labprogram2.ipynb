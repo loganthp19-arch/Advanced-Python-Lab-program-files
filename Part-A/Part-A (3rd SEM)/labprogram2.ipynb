{
 "cells": [
  {
   "cell_type": "code",
   "execution_count": null,
   "id": "fbde0905",
   "metadata": {},
   "outputs": [],
   "source": [
    "Write a Python program to calculate the length of a string \n",
    "without using built in function\n",
    "and check whether it is a palindrome or not.\n",
    "\n"
   ]
  },
  {
   "cell_type": "code",
   "execution_count": 3,
   "id": "42ce777a",
   "metadata": {},
   "outputs": [
    {
     "name": "stdout",
     "output_type": "stream",
     "text": [
      "Enter a string: good morning\n",
      "length of the string is 12\n",
      "the given string is not a palindrome\n"
     ]
    }
   ],
   "source": [
    "str = input(\"Enter a string: \")\n",
    "count = 0\n",
    "for ch in str:\n",
    "    count = count + 1\n",
    "print(\"length of the string is\", count)\n",
    "\n",
    "rev = str[::-1]\n",
    "if (rev == str):\n",
    "    print(\"the given string is a palindrome\")\n",
    "else:\n",
    "    print(\"the given string is not a palindrome\")\n",
    "    "
   ]
  },
  {
   "cell_type": "code",
   "execution_count": null,
   "id": "b9a0a82e",
   "metadata": {},
   "outputs": [],
   "source": []
  }
 ],
 "metadata": {
  "kernelspec": {
   "display_name": "Python 3 (ipykernel)",
   "language": "python",
   "name": "python3"
  },
  "language_info": {
   "codemirror_mode": {
    "name": "ipython",
    "version": 3
   },
   "file_extension": ".py",
   "mimetype": "text/x-python",
   "name": "python",
   "nbconvert_exporter": "python",
   "pygments_lexer": "ipython3",
   "version": "3.9.12"
  }
 },
 "nbformat": 4,
 "nbformat_minor": 5
}
