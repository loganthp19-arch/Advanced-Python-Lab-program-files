{
 "cells": [
  {
   "cell_type": "code",
   "execution_count": 1,
   "id": "8566a19c",
   "metadata": {},
   "outputs": [
    {
     "name": "stdout",
     "output_type": "stream",
     "text": [
      "enter a number:45\n",
      "the number is odd\n"
     ]
    }
   ],
   "source": [
    "Write a python program to check if the number is even or odd \n",
    "using a user defined function.\n"
   ]
  },
  {
   "cell_type": "code",
   "execution_count": 1,
   "id": "a4ef540a",
   "metadata": {},
   "outputs": [
    {
     "name": "stdout",
     "output_type": "stream",
     "text": [
      "enter a number:45\n",
      "the number is odd\n"
     ]
    }
   ],
   "source": [
    "def check(a):\n",
    "    if a%2==0:\n",
    "        print('the number is even')\n",
    "    else:\n",
    "        print('the number is odd')\n",
    "num=int(input('enter a number:')) \n",
    "check(num)"
   ]
  }
 ],
 "metadata": {
  "kernelspec": {
   "display_name": "Python 3 (ipykernel)",
   "language": "python",
   "name": "python3"
  },
  "language_info": {
   "codemirror_mode": {
    "name": "ipython",
    "version": 3
   },
   "file_extension": ".py",
   "mimetype": "text/x-python",
   "name": "python",
   "nbconvert_exporter": "python",
   "pygments_lexer": "ipython3",
   "version": "3.9.12"
  }
 },
 "nbformat": 4,
 "nbformat_minor": 5
}
