{
 "cells": [
  {
   "cell_type": "code",
   "execution_count": null,
   "id": "c4f828e1",
   "metadata": {},
   "outputs": [],
   "source": [
    "8.Develop a python program to count occurrence of \n",
    "all characters present in a string."
   ]
  },
  {
   "cell_type": "code",
   "execution_count": null,
   "id": "648183f9",
   "metadata": {},
   "outputs": [],
   "source": [
    "i/p : G O O D\n",
    "o/p :\n",
    "    G : 1\n",
    "    O : 2\n",
    "    D : 1\n",
    "        \n",
    "D = {} , str = GOOD\n",
    "G ---> D['G'] = 0+1 = 1  D = {'G':1}\n",
    "O ---> D['O'] = 0+1 = 1  D = {'G':1,'O':1}\n",
    "O ---> D['O'] = 1+1 = 2  D = {'G':1,'O':2}\n",
    "D ---> D['D'] = 0+1 = 1  D = {'G':1,'O':1,'D':1}\n",
    "\n",
    "ch--->  D[ch] = D.get(ch,0)+1\n",
    "\n"
   ]
  },
  {
   "cell_type": "code",
   "execution_count": 1,
   "id": "3e4ad91e",
   "metadata": {},
   "outputs": [
    {
     "name": "stdout",
     "output_type": "stream",
     "text": [
      "{'L': 1, 'o': 1, 'g': 1, 'a': 1, 'n': 1, 't': 1, 'h': 1}\n"
     ]
    }
   ],
   "source": [
    "D = {}\n",
    "str = input(\"Enter a String : \")\n",
    "for ch in str:\n",
    "    D[ch] = D.get(ch,0) + 1\n",
    "\n",
    "print(D)\n",
    "\n"
   ]
  },
  {
   "cell_type": "code",
   "execution_count": 6,
   "id": "254119d4",
   "metadata": {},
   "outputs": [
    {
     "name": "stdout",
     "output_type": "stream",
     "text": [
      "Enter a String : good morning\n",
      "{'g': 2, 'o': 3, 'd': 1, ' ': 1, 'm': 1, 'r': 1, 'n': 2, 'i': 1}\n",
      "g  :  2\n",
      "o  :  3\n",
      "d  :  1\n",
      "   :  1\n",
      "m  :  1\n",
      "r  :  1\n",
      "n  :  2\n",
      "i  :  1\n"
     ]
    }
   ],
   "source": [
    "D = {}\n",
    "str = input(\"Enter a String : \")\n",
    "for ch in str:\n",
    "    D[ch] = D.get(ch,0) + 1\n",
    "\n",
    "print(D)\n",
    "for key in D:\n",
    "    print( key, ' : ' ,D[key])"
   ]
  }
 ],
 "metadata": {
  "kernelspec": {
   "display_name": "Python 3",
   "language": "python",
   "name": "python3"
  },
  "language_info": {
   "codemirror_mode": {
    "name": "ipython",
    "version": 3
   },
   "file_extension": ".py",
   "mimetype": "text/x-python",
   "name": "python",
   "nbconvert_exporter": "python",
   "pygments_lexer": "ipython3",
   "version": "3.13.1"
  }
 },
 "nbformat": 4,
 "nbformat_minor": 5
}
