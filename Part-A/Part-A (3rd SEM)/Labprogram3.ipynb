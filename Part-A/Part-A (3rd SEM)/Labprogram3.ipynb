{
 "cells": [
  {
   "cell_type": "code",
   "execution_count": null,
   "id": "44a89265",
   "metadata": {},
   "outputs": [],
   "source": [
    "3.Write a Python function that accepts a sentence from the user \n",
    "and counts the number of words in the sentence.\n",
    "\n",
    "i/p : How are you\n",
    "o/p : There are 3 words"
   ]
  },
  {
   "cell_type": "code",
   "execution_count": 5,
   "id": "c2704654",
   "metadata": {},
   "outputs": [
    {
     "name": "stdout",
     "output_type": "stream",
     "text": [
      "Enter a sentence : good morning\n",
      "['good', 'morning']\n",
      "There are 2 words\n"
     ]
    }
   ],
   "source": [
    "def count(S):\n",
    "    L = S.split()\n",
    "    print(L)\n",
    "    print(\"There are\",len(L),\"words\")\n",
    "    #for word in L:\n",
    "    #    print(word,\" : \", len(word))\n",
    "\n",
    "str = input(\"Enter a sentence : \")\n",
    "count(str)\n",
    "\n"
   ]
  }
 ],
 "metadata": {
  "kernelspec": {
   "display_name": "Python 3 (ipykernel)",
   "language": "python",
   "name": "python3"
  },
  "language_info": {
   "codemirror_mode": {
    "name": "ipython",
    "version": 3
   },
   "file_extension": ".py",
   "mimetype": "text/x-python",
   "name": "python",
   "nbconvert_exporter": "python",
   "pygments_lexer": "ipython3",
   "version": "3.9.12"
  }
 },
 "nbformat": 4,
 "nbformat_minor": 5
}
