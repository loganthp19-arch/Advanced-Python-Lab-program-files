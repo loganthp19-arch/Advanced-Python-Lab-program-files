{
 "cells": [
  {
   "cell_type": "code",
   "execution_count": null,
   "id": "31e8d178",
   "metadata": {},
   "outputs": [],
   "source": [
    "Write a python program to check \n",
    "whether the number is prime or not. "
   ]
  },
  {
   "cell_type": "code",
   "execution_count": null,
   "id": "62b3b335",
   "metadata": {},
   "outputs": [],
   "source": [
    "1: take an input\n",
    "2: from 2 to num-1\n",
    "       num is divisible or not\n",
    "3: if it not divisible ----> prime\n",
    "   else ----> not a prime\n",
    "          \n",
    "\n",
    "\n",
    "num = input(\"enter a number\")"
   ]
  },
  {
   "cell_type": "code",
   "execution_count": 1,
   "id": "02bf6c72",
   "metadata": {},
   "outputs": [
    {
     "name": "stdout",
     "output_type": "stream",
     "text": [
      "number is prime\n"
     ]
    }
   ],
   "source": [
    "num = int (input(\"enter a number\"))\n",
    "for i in range(2,num,1):\n",
    "    if (num%i==0):\n",
    "        print(\"number is not a prime\")\n",
    "        break\n",
    "if i==num-1:\n",
    "    print(\"number is prime\")"
   ]
  },
  {
   "cell_type": "code",
   "execution_count": 3,
   "id": "854ca8f2",
   "metadata": {},
   "outputs": [
    {
     "name": "stdout",
     "output_type": "stream",
     "text": [
      "number is not a prime\n"
     ]
    }
   ],
   "source": [
    "num = int (input(\"enter a number\"))\n",
    "flag = 1\n",
    "for i in range(2,num,1):\n",
    "    if (num%i==0):\n",
    "        print(\"number is not a prime\")\n",
    "        flag = 0\n",
    "        break\n",
    "if flag==1:\n",
    "    print(\"number is prime\")"
   ]
  },
  {
   "cell_type": "code",
   "execution_count": 2,
   "id": "1c056ae1",
   "metadata": {},
   "outputs": [
    {
     "name": "stdout",
     "output_type": "stream",
     "text": [
      "number is prime\n"
     ]
    }
   ],
   "source": [
    "num = int (input(\"enter a number\"))\n",
    "for i in range(2,num,1):\n",
    "    if (num%i==0):\n",
    "        print(\"number is not a prime\")\n",
    "        break\n",
    "else:\n",
    "    print(\"number is prime\")"
   ]
  }
 ],
 "metadata": {
  "kernelspec": {
   "display_name": "Python 3",
   "language": "python",
   "name": "python3"
  },
  "language_info": {
   "codemirror_mode": {
    "name": "ipython",
    "version": 3
   },
   "file_extension": ".py",
   "mimetype": "text/x-python",
   "name": "python",
   "nbconvert_exporter": "python",
   "pygments_lexer": "ipython3",
   "version": "3.13.1"
  }
 },
 "nbformat": 4,
 "nbformat_minor": 5
}
