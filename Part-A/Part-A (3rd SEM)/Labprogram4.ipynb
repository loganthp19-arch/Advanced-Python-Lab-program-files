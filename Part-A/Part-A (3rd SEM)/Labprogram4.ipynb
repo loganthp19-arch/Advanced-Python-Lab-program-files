{
 "cells": [
  {
   "cell_type": "code",
   "execution_count": null,
   "id": "f2035a61",
   "metadata": {},
   "outputs": [],
   "source": [
    "4.Write a Python program to \n",
    "sum all the numbers in a list."
   ]
  },
  {
   "cell_type": "code",
   "execution_count": 5,
   "id": "cf646c8d",
   "metadata": {},
   "outputs": [
    {
     "name": "stdout",
     "output_type": "stream",
     "text": [
      "Enter the number of Elements : 3\n",
      "Enter next element : 20\n",
      "Enter next element : 10\n",
      "Enter next element : 30\n",
      "[20, 10, 30]\n",
      "the sum of elements is  60\n",
      "the total elements present are 3\n",
      "the average of elements is 20.0\n"
     ]
    }
   ],
   "source": [
    "L = []\n",
    "n = int ( input(\"Enter the number of Elements : \") )\n",
    "for i in range(n):\n",
    "    elem = int (input(\"Enter next element : \"))\n",
    "    L.append(elem)\n",
    "\n",
    "print(L)\n",
    "print(\"the sum of elements is \", sum(L))\n",
    "print(\"the total elements present are\", len(L))\n",
    "print(\"the average of elements is\", sum(L)/len(L))\n"
   ]
  }
 ],
 "metadata": {
  "kernelspec": {
   "display_name": "Python 3 (ipykernel)",
   "language": "python",
   "name": "python3"
  },
  "language_info": {
   "codemirror_mode": {
    "name": "ipython",
    "version": 3
   },
   "file_extension": ".py",
   "mimetype": "text/x-python",
   "name": "python",
   "nbconvert_exporter": "python",
   "pygments_lexer": "ipython3",
   "version": "3.9.12"
  }
 },
 "nbformat": 4,
 "nbformat_minor": 5
}
