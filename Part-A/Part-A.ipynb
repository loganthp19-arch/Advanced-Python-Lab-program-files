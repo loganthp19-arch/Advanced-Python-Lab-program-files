{
 "cells": [
  {
   "cell_type": "code",
   "execution_count": 3,
   "id": "07b3b7fa-6875-444d-9015-3f33339300dc",
   "metadata": {},
   "outputs": [
    {
     "name": "stdin",
     "output_type": "stream",
     "text": [
      "Enter a number:  23\n"
     ]
    },
    {
     "name": "stdout",
     "output_type": "stream",
     "text": [
      "23 is a prime number.\n"
     ]
    }
   ],
   "source": [
    "#Program-1\n",
    "def is_prime(number):\n",
    "    if number<=1:\n",
    "        return False\n",
    "    for i in range(2,int(number**0.5)+1):\n",
    "        if number % i == 0:\n",
    "            return False\n",
    "    return True\n",
    "user_input=int(input(\"Enter a number: \"))\n",
    "if is_prime(user_input):\n",
    "    print(f\"{user_input} is a prime number.\")\n",
    "else:\n",
    "    print(f\"{user_input} is not a prime number.\")"
   ]
  },
  {
   "cell_type": "code",
   "execution_count": 4,
   "id": "cfa016c5-6f32-43d4-ab83-2b59c3540acb",
   "metadata": {},
   "outputs": [
    {
     "name": "stdin",
     "output_type": "stream",
     "text": [
      "Enter a string:  Madam\n"
     ]
    },
    {
     "name": "stdout",
     "output_type": "stream",
     "text": [
      "Length of the string = 5\n",
      "The string is not a palindrome\n"
     ]
    }
   ],
   "source": [
    "#Program-2\n",
    "def calculate_length(string):\n",
    "    length=0\n",
    "    for _ in string:\n",
    "        length+=1\n",
    "    return length\n",
    "\n",
    "def is_palindrome(string):\n",
    "    length=calculate_length(string)\n",
    "    for i in range(length//2):\n",
    "        if string[i]!=string[length-i-1]:\n",
    "            return False\n",
    "    return True\n",
    "user_input=input(\"Enter a string: \")\n",
    "length=calculate_length(user_input)\n",
    "print(f\"Length of the string = {length}\")\n",
    "if is_palindrome(user_input):\n",
    "    print(\"The string is a palindrome\")\n",
    "else:\n",
    "    print(\"The string is not a palindrome\")"
   ]
  },
  {
   "cell_type": "code",
   "execution_count": 12,
   "id": "9baf8930-7ad7-4450-8ce1-8a4e3788557d",
   "metadata": {},
   "outputs": [
    {
     "name": "stdin",
     "output_type": "stream",
     "text": [
      "Enter a string:  This day is really just boring\n"
     ]
    },
    {
     "name": "stdout",
     "output_type": "stream",
     "text": [
      "Number of words in the sentence:6\n"
     ]
    }
   ],
   "source": [
    "#Program-3\n",
    "def count_words(sentence):\n",
    "    words=sentence.split()\n",
    "    num_words=len(words)\n",
    "    return num_words\n",
    "user_sentence=input(\"Enter a string: \")\n",
    "result=count_words(user_sentence)\n",
    "print(f\"Number of words in the sentence:{result}\")"
   ]
  },
  {
   "cell_type": "code",
   "execution_count": 6,
   "id": "f4e819c7-916e-4d69-8cdd-3935d584d69c",
   "metadata": {},
   "outputs": [
    {
     "name": "stdout",
     "output_type": "stream",
     "text": [
      "The sum of the numbers is: 15\n"
     ]
    }
   ],
   "source": [
    "#Program-4\n",
    "def sum_numbers(numbers):\n",
    "    total=0\n",
    "    for num in numbers:\n",
    "        total+=num\n",
    "    return total\n",
    "numbers_list=[1,2,3,4,5]\n",
    "result=sum_numbers(numbers_list)\n",
    "print(f\"The sum of the numbers is: {result}\")"
   ]
  },
  {
   "cell_type": "code",
   "execution_count": 7,
   "id": "83c6b656-c316-4b23-b01a-fb726441f665",
   "metadata": {},
   "outputs": [
    {
     "name": "stdin",
     "output_type": "stream",
     "text": [
      "Enter a number:  5\n"
     ]
    },
    {
     "name": "stdout",
     "output_type": "stream",
     "text": [
      "The number 5 is Odd\n"
     ]
    }
   ],
   "source": [
    "#Program-7\n",
    "def check_even_odd(number):\n",
    "    if number%2==0:\n",
    "        return \"Even\"\n",
    "    else:\n",
    "        return \"Odd\"\n",
    "user_number=int(input(\"Enter a number: \"))\n",
    "result=check_even_odd(user_number)\n",
    "print(f\"The number {user_number} is {result}\")"
   ]
  },
  {
   "cell_type": "code",
   "execution_count": 1,
   "id": "4905078c-3a9a-4460-8d5d-a2afac4a7ae8",
   "metadata": {},
   "outputs": [
    {
     "name": "stdin",
     "output_type": "stream",
     "text": [
      "Enter a string:  Karthikeeya\n"
     ]
    },
    {
     "name": "stdout",
     "output_type": "stream",
     "text": [
      "Character counts: \n",
      " 'K':1\n",
      " 'a':2\n",
      " 'r':1\n",
      " 't':1\n",
      " 'h':1\n",
      " 'i':1\n",
      " 'k':1\n",
      " 'e':2\n",
      " 'y':1\n"
     ]
    }
   ],
   "source": [
    "#Program-8\n",
    "def count_characters(input_string):\n",
    "    char_count={}\n",
    "    for char in input_string:\n",
    "        if char in char_count:\n",
    "            char_count[char]+=1\n",
    "        else:\n",
    "            char_count[char]=1\n",
    "    return char_count\n",
    "user_string=input(\"Enter a string: \")\n",
    "result=count_characters(user_string)\n",
    "print(\"Character counts: \")\n",
    "for char,count in result.items():\n",
    "    print(f\" '{char}':{count}\")"
   ]
  },
  {
   "cell_type": "code",
   "execution_count": 1,
   "id": "6709504d-62f4-479a-ac34-1af7c2bf4705",
   "metadata": {},
   "outputs": [
    {
     "name": "stdin",
     "output_type": "stream",
     "text": [
      "Enter the no.of entries:  3\n",
      "Enter a name:  Jack\n",
      "Enter a phone number:  5468790312\n",
      "Enter a name:  Alice\n",
      "Enter a phone number:  1478520369\n",
      "Enter a name:  Smith\n",
      "Enter a phone number:  1593746208\n",
      "Enter a name to search: Smith\n"
     ]
    },
    {
     "name": "stdout",
     "output_type": "stream",
     "text": [
      "Smith's phone number is 1593746208\n"
     ]
    }
   ],
   "source": [
    "#Program-5\n",
    "phonebook={}\n",
    "n=int(input(\"Enter the no.of entries: \"))\n",
    "for i in range(n):\n",
    "    name=input(\"Enter a name: \")\n",
    "    phone=input(\"Enter a phone number: \")\n",
    "    phonebook[name]=phone\n",
    "search_name=input(\"Enter a name to search:\")\n",
    "if search_name in phonebook:\n",
    "    print(f\"{search_name}'s phone number is {phonebook[search_name]}\")\n",
    "else:\n",
    "    print(f\"{search_name}'s is not found in the phonebook\")"
   ]
  },
  {
   "cell_type": "code",
   "execution_count": 3,
   "id": "53b45412-d720-4307-8ba9-1602cfd63596",
   "metadata": {},
   "outputs": [],
   "source": [
    "#Program-6\n",
    "def copy_odd_lines(input_file, output_file):\n",
    "    with open(input_file, 'r') as infile, open(output_file, 'w') as outfile:\n",
    "        for line_number, line in enumerate(infile, 1):\n",
    "            if line_number%2!=0:\n",
    "                outfile.write(line)\n",
    "\n",
    "input_file_name = 'input.txt'\n",
    "output_file_name = 'output.txt'\n",
    "copy_odd_lines(input_file_name, output_file_name)"
   ]
  },
  {
   "cell_type": "code",
   "execution_count": null,
   "id": "ea4698a5-dbc9-440a-8d26-1ef8381c9667",
   "metadata": {},
   "outputs": [],
   "source": []
  }
 ],
 "metadata": {
  "kernelspec": {
   "display_name": "Python 3 (ipykernel)",
   "language": "python",
   "name": "python3"
  },
  "language_info": {
   "codemirror_mode": {
    "name": "ipython",
    "version": 3
   },
   "file_extension": ".py",
   "mimetype": "text/x-python",
   "name": "python",
   "nbconvert_exporter": "python",
   "pygments_lexer": "ipython3",
   "version": "3.12.7"
  }
 },
 "nbformat": 4,
 "nbformat_minor": 5
}
